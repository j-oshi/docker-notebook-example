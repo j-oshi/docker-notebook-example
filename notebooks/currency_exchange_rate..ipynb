{
 "cells": [
  {
   "cell_type": "markdown",
   "metadata": {},
   "source": [
    "# Currency Exchange Rates\n",
    "\n",
    "## Example to show how to get all exchange rate for a currency"
   ]
  },
  {
   "cell_type": "code",
<<<<<<< HEAD
   "execution_count": 9,
=======
   "execution_count": 5,
>>>>>>> 9eb78bc074f52d2df9ff26a25de20ea0b5e80ebd
   "metadata": {},
   "outputs": [],
   "source": [
    "import numpy as np\n",
    "import pandas as pd\n",
    "import json\n",
    "import os, sys\n",
    "\n",
    "parent_dir = os.path.abspath('..')\n",
    "if parent_dir not in sys.path:\n",
    "    sys.path.append(parent_dir)\n",
    "\n",
    "from src import file_check, yahoo as yh\n"
   ]
  },
  {
   "cell_type": "markdown",
   "metadata": {},
   "source": [
    "### Load list of currencies\n",
    "### Generate currencies exchange matrix"
   ]
  },
  {
   "cell_type": "code",
<<<<<<< HEAD
   "execution_count": 10,
=======
   "execution_count": 6,
>>>>>>> 9eb78bc074f52d2df9ff26a25de20ea0b5e80ebd
   "metadata": {},
   "outputs": [
    {
     "name": "stdout",
     "output_type": "stream",
     "text": [
      "Matrix table created and saved\n"
     ]
    }
   ],
   "source": [
    "currency_file = parent_dir + '/data/currencies.csv'\n",
    "forex_matrix_file = parent_dir + '/data/forex_matrix.csv'\n",
    "forex_price_file = parent_dir + '/data/forex_price.json'\n",
    "\n",
    "def getAllCurrenciesSymbols():\n",
    "    df = pd.read_csv(currency_file, usecols = ['Currency code (ISO 4217)'])\n",
    "    currency_list = df.values.flatten().tolist()\n",
    "    remove_all = 'ALL'\n",
    "    currency_list = [value for value in currency_list if value != remove_all]\n",
    "    return currency_list\n",
    "\n",
    "def createTwoDMmatrix(list_matrix):\n",
    "    return [[i + j if i != j else 1 for i in list_matrix] for j in list_matrix]\n",
    "\n",
    "if file_check.file_exist(forex_matrix_file):\n",
    "    pass\n",
    "else:  \n",
    "    currency_list = getAllCurrenciesSymbols()\n",
    "    forex_matrix = createTwoDMmatrix(getAllCurrenciesSymbols())\n",
    "    df = pd.DataFrame(forex_matrix, columns = currency_list, index=currency_list)\n",
    "\n",
    "    # Save to csv\n",
    "    df.to_csv(forex_matrix_file)\n",
    "    print('Matrix table created and saved')"
   ]
  },
  {
   "cell_type": "markdown",
   "metadata": {},
   "source": [
    "### Get list of all currency exchange rates for a currency"
   ]
  },
  {
   "cell_type": "code",
<<<<<<< HEAD
   "execution_count": 11,
=======
   "execution_count": 7,
>>>>>>> 9eb78bc074f52d2df9ff26a25de20ea0b5e80ebd
   "metadata": {},
   "outputs": [],
   "source": [
    "def getAllExchangeVariableForCurrency(symbol):\n",
    "    try:\n",
    "        rdf = pd.read_csv(forex_matrix_file)\n",
    "        if symbol in rdf:\n",
    "            rdf = pd.read_csv(forex_matrix_file, usecols = [symbol])\n",
    "            return rdf.values.flatten().tolist()\n",
    "    except:\n",
    "        print(\"Error get result for\" + symbol)\n",
    "\n",
<<<<<<< HEAD
    "\n",
    "# Save list of currency rates\n",
    "forex_price_data = yh.getAllDetailExchangeRateFor(getAllExchangeVariableForCurrency('USD'))\n",
=======
    "# Drop duplicates\n",
    "remove_duplicate = [*set(getAllExchangeVariableForCurrency('USD'))] \n",
    "\n",
    "# Save list of currency rates\n",
    "forex_price_data = yh.getAllDetailExchangeRateFor(remove_duplicate)\n",
>>>>>>> 9eb78bc074f52d2df9ff26a25de20ea0b5e80ebd
    "json_string = json.dumps(forex_price_data, indent=2)\n",
    "with open(forex_price_file, 'w') as outfile:\n",
    "    outfile.write(json_string)"
   ]
  },
  {
   "cell_type": "markdown",
   "metadata": {},
   "source": [
    "### Clean data and display table"
   ]
  },
  {
   "cell_type": "code",
<<<<<<< HEAD
   "execution_count": 12,
=======
   "execution_count": 8,
>>>>>>> 9eb78bc074f52d2df9ff26a25de20ea0b5e80ebd
   "metadata": {},
   "outputs": [
    {
     "data": {
      "text/html": [
       "<div>\n",
       "<style scoped>\n",
       "    .dataframe tbody tr th:only-of-type {\n",
       "        vertical-align: middle;\n",
       "    }\n",
       "\n",
       "    .dataframe tbody tr th {\n",
       "        vertical-align: top;\n",
       "    }\n",
       "\n",
       "    .dataframe thead th {\n",
       "        text-align: right;\n",
       "    }\n",
       "</style>\n",
       "<table border=\"1\" class=\"dataframe\">\n",
       "  <thead>\n",
       "    <tr style=\"text-align: right;\">\n",
       "      <th></th>\n",
       "      <th>symbol</th>\n",
       "      <th>regularMarketPrice</th>\n",
       "      <th>regularMarketChange</th>\n",
       "      <th>regularMarketChangePercent</th>\n",
       "      <th>previous_close</th>\n",
       "      <th>open</th>\n",
       "      <th>bid</th>\n",
       "      <th>day_range</th>\n",
       "      <th>year_Week_range</th>\n",
       "      <th>ask</th>\n",
       "    </tr>\n",
       "  </thead>\n",
       "  <tbody>\n",
       "    <tr>\n",
       "      <th>0</th>\n",
       "      <td>USDDZD</td>\n",
<<<<<<< HEAD
       "      <td>140.6180</td>\n",
       "      <td>-0.3480</td>\n",
       "      <td>(-0.2469%)</td>\n",
       "      <td>140.9660</td>\n",
       "      <td>140.9710</td>\n",
       "      <td>140.6180</td>\n",
       "      <td>140.4210 - 141.0500</td>\n",
       "      <td>133.5986 - 146.8430</td>\n",
       "      <td>142.6180</td>\n",
       "    </tr>\n",
       "    <tr>\n",
       "      <th>1</th>\n",
       "      <td>USDAOA</td>\n",
       "      <td>422.4760</td>\n",
       "      <td>-0.1300</td>\n",
       "      <td>(-0.0308%)</td>\n",
       "      <td>422.6060</td>\n",
       "      <td>422.4760</td>\n",
       "      <td>422.4760</td>\n",
       "      <td>422.4760 - 422.4760</td>\n",
       "      <td>422.4760 - 422.4760</td>\n",
       "      <td>434.2007</td>\n",
=======
       "      <td>140.1360</td>\n",
       "      <td>-0.2220</td>\n",
       "      <td>(-0.1582%)</td>\n",
       "      <td>140.3580</td>\n",
       "      <td>140.1360</td>\n",
       "      <td>140.1360</td>\n",
       "      <td>140.1360 - 140.1360</td>\n",
       "      <td>133.5986 - 146.8430</td>\n",
       "      <td>142.1360</td>\n",
>>>>>>> 9eb78bc074f52d2df9ff26a25de20ea0b5e80ebd
       "    </tr>\n",
       "    <tr>\n",
       "      <th>2</th>\n",
       "      <td>USDARS</td>\n",
<<<<<<< HEAD
       "      <td>136.9400</td>\n",
       "      <td>+0.3000</td>\n",
       "      <td>(+0.2196%)</td>\n",
       "      <td>136.6400</td>\n",
       "      <td>136.6400</td>\n",
       "      <td>136.9400</td>\n",
       "      <td>136.6400 - 136.9500</td>\n",
       "      <td>96.9523 - 137.6862</td>\n",
       "      <td>136.9450</td>\n",
=======
       "      <td>137.7000</td>\n",
       "      <td>+0.3200</td>\n",
       "      <td>(+0.2329%)</td>\n",
       "      <td>137.3800</td>\n",
       "      <td>137.7000</td>\n",
       "      <td>137.7000</td>\n",
       "      <td>137.7000 - 137.7000</td>\n",
       "      <td>96.9523 - 137.7000</td>\n",
       "      <td>137.7200</td>\n",
>>>>>>> 9eb78bc074f52d2df9ff26a25de20ea0b5e80ebd
       "    </tr>\n",
       "    <tr>\n",
       "      <th>3</th>\n",
       "      <td>USDAMD</td>\n",
<<<<<<< HEAD
       "      <td>404.4300</td>\n",
       "      <td>-0.5300</td>\n",
       "      <td>(-0.1309%)</td>\n",
       "      <td>404.9600</td>\n",
       "      <td>404.4300</td>\n",
       "      <td>404.4300</td>\n",
       "      <td>404.4300 - 404.4300</td>\n",
       "      <td>404.4300 - 404.4300</td>\n",
       "      <td>405.4300</td>\n",
=======
       "      <td>404.3200</td>\n",
       "      <td>-0.1200</td>\n",
       "      <td>(-0.0297%)</td>\n",
       "      <td>404.4400</td>\n",
       "      <td>404.3200</td>\n",
       "      <td>404.3200</td>\n",
       "      <td>404.3200 - 404.3200</td>\n",
       "      <td>404.3200 - 404.3200</td>\n",
       "      <td>405.3200</td>\n",
>>>>>>> 9eb78bc074f52d2df9ff26a25de20ea0b5e80ebd
       "    </tr>\n",
       "    <tr>\n",
       "      <th>4</th>\n",
       "      <td>USDAUD</td>\n",
<<<<<<< HEAD
       "      <td>1.4428</td>\n",
       "      <td>-0.0108</td>\n",
       "      <td>(-0.7403%)</td>\n",
       "      <td>1.454</td>\n",
       "      <td>1.454</td>\n",
       "      <td>1.443</td>\n",
       "      <td>1.436 - 1.458</td>\n",
       "      <td>1.3054 - 1.4963</td>\n",
       "      <td>1.444</td>\n",
=======
       "      <td>1.4510</td>\n",
       "      <td>+0.0188</td>\n",
       "      <td>(+1.3148%)</td>\n",
       "      <td>1.4322</td>\n",
       "      <td>1.4507</td>\n",
       "      <td>1.4510</td>\n",
       "      <td>1.4507 - 1.4510</td>\n",
       "      <td>1.3054 - 1.4963</td>\n",
       "      <td>1.4520</td>\n",
       "    </tr>\n",
       "    <tr>\n",
       "      <th>5</th>\n",
       "      <td>USDEUR</td>\n",
       "      <td>1.0025</td>\n",
       "      <td>+0.0002</td>\n",
       "      <td>(+0.0200%)</td>\n",
       "      <td>1.0023</td>\n",
       "      <td>1.0022</td>\n",
       "      <td>1.0025</td>\n",
       "      <td>0.9914 - 1.0048</td>\n",
       "      <td>0.8398 - 1.0098</td>\n",
       "      <td>1.0030</td>\n",
>>>>>>> 9eb78bc074f52d2df9ff26a25de20ea0b5e80ebd
       "    </tr>\n",
       "    <tr>\n",
       "      <th>...</th>\n",
       "      <td>...</td>\n",
       "      <td>...</td>\n",
       "      <td>...</td>\n",
       "      <td>...</td>\n",
       "      <td>...</td>\n",
       "      <td>...</td>\n",
       "      <td>...</td>\n",
       "      <td>...</td>\n",
       "      <td>...</td>\n",
       "      <td>...</td>\n",
       "    </tr>\n",
       "    <tr>\n",
       "      <th>145</th>\n",
       "      <td>USDUYU</td>\n",
<<<<<<< HEAD
       "      <td>40.4310</td>\n",
       "      <td>-0.0570</td>\n",
       "      <td>(-0.1408%)</td>\n",
       "      <td>40.4880</td>\n",
       "      <td>40.4880</td>\n",
       "      <td>40.4310</td>\n",
       "      <td>40.4310 - 40.4880</td>\n",
       "      <td>38.2517 - 44.3787</td>\n",
       "      <td>40.5310</td>\n",
=======
       "      <td>40.4000</td>\n",
       "      <td>-0.0010</td>\n",
       "      <td>(-0.0025%)</td>\n",
       "      <td>40.4010</td>\n",
       "      <td>40.4010</td>\n",
       "      <td>40.4000</td>\n",
       "      <td>40.4000 - 40.4010</td>\n",
       "      <td>38.2517 - 44.3787</td>\n",
       "      <td>40.5000</td>\n",
>>>>>>> 9eb78bc074f52d2df9ff26a25de20ea0b5e80ebd
       "    </tr>\n",
       "    <tr>\n",
       "      <th>146</th>\n",
       "      <td>USDUZS</td>\n",
<<<<<<< HEAD
       "      <td>10,880.0000</td>\n",
       "      <td>-10.0000</td>\n",
       "      <td>(-0.0918%)</td>\n",
       "      <td>10,890.0000</td>\n",
       "      <td>10,883.3000</td>\n",
       "      <td>10,880.0000</td>\n",
       "      <td>10,880.0000 - 10,883.3000</td>\n",
       "      <td>10,569.4932 - 11,514.8105</td>\n",
       "      <td>10,920.0000</td>\n",
=======
       "      <td>10,910.0000</td>\n",
       "      <td>+10.0000</td>\n",
       "      <td>(+0.0917%)</td>\n",
       "      <td>10,900.0000</td>\n",
       "      <td>10,927.0900</td>\n",
       "      <td>10,910.0000</td>\n",
       "      <td>10,910.0000 - 10,927.0900</td>\n",
       "      <td>10,569.4932 - 11,514.8105</td>\n",
       "      <td>10,950.0000</td>\n",
>>>>>>> 9eb78bc074f52d2df9ff26a25de20ea0b5e80ebd
       "    </tr>\n",
       "    <tr>\n",
       "      <th>147</th>\n",
       "      <td>USDVEF</td>\n",
       "      <td>248,209.0000</td>\n",
       "      <td>0.0000</td>\n",
       "      <td>(0.0000%)</td>\n",
       "      <td>248,209.0000</td>\n",
       "      <td>248,209.0000</td>\n",
       "      <td>248,209.0000</td>\n",
       "      <td>248,209.0000 - 248,209.0000</td>\n",
       "      <td>248,209.0000 - 248,818.0000</td>\n",
       "      <td>248,259.0000</td>\n",
       "    </tr>\n",
       "    <tr>\n",
       "      <th>148</th>\n",
       "      <td>USDVND</td>\n",
<<<<<<< HEAD
       "      <td>23,430.0000</td>\n",
       "      <td>+22.0000</td>\n",
       "      <td>(+0.0940%)</td>\n",
       "      <td>23,408.0000</td>\n",
       "      <td>23,408.0000</td>\n",
       "      <td>23,430.0000</td>\n",
       "      <td>23,240.0000 - 23,430.0000</td>\n",
       "      <td>22,260.3535 - 23,480.0000</td>\n",
       "      <td>23,440.0000</td>\n",
=======
       "      <td>23,412.0000</td>\n",
       "      <td>-11.0000</td>\n",
       "      <td>(-0.0470%)</td>\n",
       "      <td>23,423.0000</td>\n",
       "      <td>23,412.0000</td>\n",
       "      <td>23,412.0000</td>\n",
       "      <td>23,412.0000 - 23,412.0000</td>\n",
       "      <td>22,260.3535 - 23,480.0000</td>\n",
       "      <td>23,422.0000</td>\n",
>>>>>>> 9eb78bc074f52d2df9ff26a25de20ea0b5e80ebd
       "    </tr>\n",
       "    <tr>\n",
       "      <th>149</th>\n",
       "      <td>USDZMW</td>\n",
<<<<<<< HEAD
       "      <td>16.1600</td>\n",
       "      <td>+0.0100</td>\n",
       "      <td>(+0.0619%)</td>\n",
       "      <td>16.1500</td>\n",
       "      <td>16.1500</td>\n",
       "      <td>16.1600</td>\n",
       "      <td>16.1000 - 16.1600</td>\n",
       "      <td>15.7745 - 18.7837</td>\n",
       "      <td>16.3500</td>\n",
       "    </tr>\n",
       "  </tbody>\n",
       "</table>\n",
       "<p>142 rows × 10 columns</p>\n",
=======
       "      <td>16.1200</td>\n",
       "      <td>+0.0100</td>\n",
       "      <td>(+0.0621%)</td>\n",
       "      <td>16.1100</td>\n",
       "      <td>16.1200</td>\n",
       "      <td>16.1200</td>\n",
       "      <td>16.1200 - 16.1200</td>\n",
       "      <td>15.7745 - 18.7837</td>\n",
       "      <td>16.3200</td>\n",
       "    </tr>\n",
       "  </tbody>\n",
       "</table>\n",
       "<p>140 rows × 10 columns</p>\n",
>>>>>>> 9eb78bc074f52d2df9ff26a25de20ea0b5e80ebd
       "</div>"
      ],
      "text/plain": [
       "     symbol regularMarketPrice regularMarketChange regularMarketChangePercent  \\\n",
<<<<<<< HEAD
       "0    USDDZD           140.6180             -0.3480                 (-0.2469%)   \n",
       "1    USDAOA           422.4760             -0.1300                 (-0.0308%)   \n",
       "2    USDARS           136.9400             +0.3000                 (+0.2196%)   \n",
       "3    USDAMD           404.4300             -0.5300                 (-0.1309%)   \n",
       "4    USDAUD             1.4428             -0.0108                 (-0.7403%)   \n",
       "..      ...                ...                 ...                        ...   \n",
       "145  USDUYU            40.4310             -0.0570                 (-0.1408%)   \n",
       "146  USDUZS        10,880.0000            -10.0000                 (-0.0918%)   \n",
       "147  USDVEF       248,209.0000              0.0000                  (0.0000%)   \n",
       "148  USDVND        23,430.0000            +22.0000                 (+0.0940%)   \n",
       "149  USDZMW            16.1600             +0.0100                 (+0.0619%)   \n",
       "\n",
       "    previous_close          open           bid                    day_range  \\\n",
       "0         140.9660      140.9710      140.6180          140.4210 - 141.0500   \n",
       "1         422.6060      422.4760      422.4760          422.4760 - 422.4760   \n",
       "2         136.6400      136.6400      136.9400          136.6400 - 136.9500   \n",
       "3         404.9600      404.4300      404.4300          404.4300 - 404.4300   \n",
       "4            1.454         1.454         1.443                1.436 - 1.458   \n",
       "..             ...           ...           ...                          ...   \n",
       "145        40.4880       40.4880       40.4310            40.4310 - 40.4880   \n",
       "146    10,890.0000   10,883.3000   10,880.0000    10,880.0000 - 10,883.3000   \n",
       "147   248,209.0000  248,209.0000  248,209.0000  248,209.0000 - 248,209.0000   \n",
       "148    23,408.0000   23,408.0000   23,430.0000    23,240.0000 - 23,430.0000   \n",
       "149        16.1500       16.1500       16.1600            16.1000 - 16.1600   \n",
       "\n",
       "                 year_Week_range           ask  \n",
       "0            133.5986 - 146.8430      142.6180  \n",
       "1            422.4760 - 422.4760      434.2007  \n",
       "2             96.9523 - 137.6862      136.9450  \n",
       "3            404.4300 - 404.4300      405.4300  \n",
       "4                1.3054 - 1.4963         1.444  \n",
       "..                           ...           ...  \n",
       "145            38.2517 - 44.3787       40.5310  \n",
       "146    10,569.4932 - 11,514.8105   10,920.0000  \n",
       "147  248,209.0000 - 248,818.0000  248,259.0000  \n",
       "148    22,260.3535 - 23,480.0000   23,440.0000  \n",
       "149            15.7745 - 18.7837       16.3500  \n",
       "\n",
       "[142 rows x 10 columns]"
      ]
     },
     "execution_count": 12,
=======
       "0    USDDZD           140.1360             -0.2220                 (-0.1582%)   \n",
       "2    USDARS           137.7000             +0.3200                 (+0.2329%)   \n",
       "3    USDAMD           404.3200             -0.1200                 (-0.0297%)   \n",
       "4    USDAUD             1.4510             +0.0188                 (+1.3148%)   \n",
       "5    USDEUR             1.0025             +0.0002                 (+0.0200%)   \n",
       "..      ...                ...                 ...                        ...   \n",
       "145  USDUYU            40.4000             -0.0010                 (-0.0025%)   \n",
       "146  USDUZS        10,910.0000            +10.0000                 (+0.0917%)   \n",
       "147  USDVEF       248,209.0000              0.0000                  (0.0000%)   \n",
       "148  USDVND        23,412.0000            -11.0000                 (-0.0470%)   \n",
       "149  USDZMW            16.1200             +0.0100                 (+0.0621%)   \n",
       "\n",
       "    previous_close          open           bid                    day_range  \\\n",
       "0         140.3580      140.1360      140.1360          140.1360 - 140.1360   \n",
       "2         137.3800      137.7000      137.7000          137.7000 - 137.7000   \n",
       "3         404.4400      404.3200      404.3200          404.3200 - 404.3200   \n",
       "4           1.4322        1.4507        1.4510              1.4507 - 1.4510   \n",
       "5           1.0023        1.0022        1.0025              0.9914 - 1.0048   \n",
       "..             ...           ...           ...                          ...   \n",
       "145        40.4010       40.4010       40.4000            40.4000 - 40.4010   \n",
       "146    10,900.0000   10,927.0900   10,910.0000    10,910.0000 - 10,927.0900   \n",
       "147   248,209.0000  248,209.0000  248,209.0000  248,209.0000 - 248,209.0000   \n",
       "148    23,423.0000   23,412.0000   23,412.0000    23,412.0000 - 23,412.0000   \n",
       "149        16.1100       16.1200       16.1200            16.1200 - 16.1200   \n",
       "\n",
       "                 year_Week_range           ask  \n",
       "0            133.5986 - 146.8430      142.1360  \n",
       "2             96.9523 - 137.7000      137.7200  \n",
       "3            404.3200 - 404.3200      405.3200  \n",
       "4                1.3054 - 1.4963        1.4520  \n",
       "5                0.8398 - 1.0098        1.0030  \n",
       "..                           ...           ...  \n",
       "145            38.2517 - 44.3787       40.5000  \n",
       "146    10,569.4932 - 11,514.8105   10,950.0000  \n",
       "147  248,209.0000 - 248,818.0000  248,259.0000  \n",
       "148    22,260.3535 - 23,480.0000   23,422.0000  \n",
       "149            15.7745 - 18.7837       16.3200  \n",
       "\n",
       "[140 rows x 10 columns]"
      ]
     },
     "execution_count": 8,
>>>>>>> 9eb78bc074f52d2df9ff26a25de20ea0b5e80ebd
     "metadata": {},
     "output_type": "execute_result"
    }
   ],
   "source": [
    "df = pd.read_json(forex_price_file)\n",
    "# df.info()\n",
    "\n",
    "df = df[(df['symbol'] != \"0\") & (df['regularMarketPrice'] != \"\")]\n",
    "\n",
    "df"
   ]
<<<<<<< HEAD
=======
  },
  {
   "cell_type": "code",
   "execution_count": null,
   "metadata": {},
   "outputs": [],
   "source": [
    "df2 = df[df['symbol'] == 'USDEUR']\n",
    "\n",
    "df2"
   ]
>>>>>>> 9eb78bc074f52d2df9ff26a25de20ea0b5e80ebd
  }
 ],
 "metadata": {
  "kernelspec": {
   "display_name": "Python 3.9.12 ('forex-example')",
   "language": "python",
   "name": "python3"
  },
  "language_info": {
   "codemirror_mode": {
    "name": "ipython",
    "version": 3
   },
   "file_extension": ".py",
   "mimetype": "text/x-python",
   "name": "python",
   "nbconvert_exporter": "python",
   "pygments_lexer": "ipython3",
   "version": "3.9.12"
  },
  "orig_nbformat": 4,
  "vscode": {
   "interpreter": {
    "hash": "9da3635c367e1c5f04bf388146ce2bcf4ad9130b6477240cc56fdfaefc6dedea"
   }
  }
 },
 "nbformat": 4,
 "nbformat_minor": 2
}
